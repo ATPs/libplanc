{
 "cells": [
  {
   "cell_type": "markdown",
   "metadata": {},
   "source": [
    "## All the imports for necessary for reading the tiny_imagnet"
   ]
  },
  {
   "cell_type": "code",
   "execution_count": 12,
   "metadata": {},
   "outputs": [],
   "source": [
    "import numpy as np\n",
    "import os\n",
    "import imageio\n",
    "import glob\n",
    "import re"
   ]
  },
  {
   "cell_type": "code",
   "execution_count": 13,
   "metadata": {},
   "outputs": [],
   "source": [
    "# code from https://github.com/pat-coady/tiny_imagenet/blob/master/src/input_pipe.py\n",
    "def load_filenames_labels(mode):\n",
    "  \"\"\"Gets filenames and labels\n",
    "\n",
    "  Args:\n",
    "    mode: 'train' or 'val'\n",
    "      (Directory structure and file naming different for\n",
    "      train and val datasets)\n",
    "\n",
    "  Returns:\n",
    "    list of tuples: (jpeg filename with path, label)\n",
    "  \"\"\"\n",
    "  label_dict, class_description = build_label_dicts()\n",
    "  filenames_labels = []\n",
    "  if mode == 'train':\n",
    "    filenames = glob.glob('tiny-imagenet-200/train/*/images/*.JPEG')\n",
    "    for filename in filenames:\n",
    "      match = re.search(r'n\\d+', filename)\n",
    "      label = str(label_dict[match.group()])\n",
    "      filenames_labels.append((filename, label))\n",
    "  elif mode == 'val':\n",
    "    with open('tiny-imagenet-200/val/val_annotations.txt', 'r') as f:\n",
    "      for line in f.readlines():\n",
    "        split_line = line.split('\\t')\n",
    "        filename = 'tiny-imagenet-200/val/images/' + split_line[0]\n",
    "        label = str(label_dict[split_line[1]])\n",
    "        filenames_labels.append((filename, label))\n",
    "\n",
    "  return filenames_labels\n",
    "\n",
    "\n",
    "def build_label_dicts():\n",
    "  \"\"\"Build look-up dictionaries for class label, and class description\n",
    "\n",
    "  Class labels are 0 to 199 in the same order as \n",
    "    tiny-imagenet-200/wnids.txt. Class text descriptions are from \n",
    "    tiny-imagenet-200/words.txt\n",
    "\n",
    "  Returns:\n",
    "    tuple of dicts\n",
    "      label_dict: \n",
    "        keys = synset (e.g. \"n01944390\")\n",
    "        values = class integer {0 .. 199}\n",
    "      class_desc:\n",
    "        keys = class integer {0 .. 199}\n",
    "        values = text description from words.txt\n",
    "  \"\"\"\n",
    "  label_dict, class_description = {}, {}\n",
    "  with open('tiny-imagenet-200/wnids.txt', 'r') as f:\n",
    "    for i, line in enumerate(f.readlines()):\n",
    "      synset = line[:-1]  # remove \\n\n",
    "      label_dict[synset] = i\n",
    "  with open('tiny-imagenet-200/words.txt', 'r') as f:\n",
    "    for i, line in enumerate(f.readlines()):\n",
    "      synset, desc = line.split('\\t')\n",
    "      desc = desc[:-1]  # remove \\n\n",
    "      if synset in label_dict:\n",
    "        class_description[label_dict[synset]] = desc\n",
    "\n",
    "  return label_dict, class_description"
   ]
  },
  {
   "cell_type": "code",
   "execution_count": 21,
   "metadata": {},
   "outputs": [],
   "source": [
    "mode='train'\n",
    "filenames_labels = load_filenames_labels(mode)\n",
    "count_dict=[]\n",
    "status_dict=[]\n",
    "for i in range(200):\n",
    "    count_dict.append(0)\n",
    "    status_dict.append(0)\n",
    "for f in filenames_labels:\n",
    "    count_dict[int(f[1])] = count_dict[int(f[1])]+1\n",
    "for i in range(200):\n",
    "    image_tensor=np.ndarray(shape=(len(count_dict),count_dict[i],64,64,3), dtype='float64')\n",
    "for f in filenames_labels:\n",
    "    label = int(f[1])\n",
    "    img = imageio.imread(f[0])    \n",
    "    if(img.ndim==2):\n",
    "        for i in range(3):\n",
    "            image_tensor[label,status_dict[label],:,:,i] = img\n",
    "    else:\n",
    "        image_tensor[label,status_dict[label],:,:,:] = img\n",
    "    status_dict[label]=status_dict[label]+1"
   ]
  },
  {
   "cell_type": "code",
   "execution_count": 22,
   "metadata": {},
   "outputs": [
    {
     "name": "stdout",
     "output_type": "stream",
     "text": [
      "(200, 500, 64, 192)\n"
     ]
    }
   ],
   "source": [
    "image_tensor=image_tensor.reshape((image_tensor.shape[0],image_tensor.shape[1],image_tensor.shape[2],image_tensor.shape[3]*image_tensor.shape[4]))\n",
    "print(image_tensor.shape)"
   ]
  },
  {
   "cell_type": "code",
   "execution_count": 23,
   "metadata": {},
   "outputs": [],
   "source": [
    "np.save('/Users/rnu/Documents/research/nmflibrary/test_data/tiny_imagenet_tensor.npy', image_tensor)"
   ]
  },
  {
   "cell_type": "code",
   "execution_count": null,
   "metadata": {},
   "outputs": [],
   "source": []
  }
 ],
 "metadata": {
  "kernelspec": {
   "display_name": "Python 3",
   "language": "python",
   "name": "python3"
  },
  "language_info": {
   "codemirror_mode": {
    "name": "ipython",
    "version": 3
   },
   "file_extension": ".py",
   "mimetype": "text/x-python",
   "name": "python",
   "nbconvert_exporter": "python",
   "pygments_lexer": "ipython3",
   "version": "3.7.0"
  }
 },
 "nbformat": 4,
 "nbformat_minor": 2
}
